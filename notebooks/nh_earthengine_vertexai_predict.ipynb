{
  "cells": [
    {
      "cell_type": "code",
      "source": [
        "!pip install dataretrieval -q"
      ],
      "metadata": {
        "id": "6iG5g4HoXLMl"
      },
      "id": "6iG5g4HoXLMl",
      "execution_count": null,
      "outputs": []
    },
    {
      "cell_type": "code",
      "source": [
        "import datetime\n",
        "import json\n",
        "import requests\n",
        "\n",
        "import ee\n",
        "import geemap\n",
        "import pandas as pd\n",
        "import numpy as np\n",
        "\n",
        "import dataretrieval.nwis as nwis"
      ],
      "metadata": {
        "colab": {
          "base_uri": "https://localhost:8080/",
          "height": 17
        },
        "id": "LwfbXrUN9mW2",
        "executionInfo": {
          "status": "ok",
          "timestamp": 1717621544841,
          "user_tz": 300,
          "elapsed": 6,
          "user": {
            "displayName": "",
            "userId": ""
          }
        },
        "outputId": "fb724e05-32fd-4db1-ed77-281f2ffb00a0"
      },
      "id": "LwfbXrUN9mW2",
      "execution_count": null,
      "outputs": [
        {
          "output_type": "display_data",
          "data": {
            "text/plain": [
              "<IPython.core.display.HTML object>"
            ],
            "text/html": [
              "\n",
              "            <style>\n",
              "                .geemap-dark {\n",
              "                    --jp-widgets-color: white;\n",
              "                    --jp-widgets-label-color: white;\n",
              "                    --jp-ui-font-color1: white;\n",
              "                    --jp-layout-color2: #454545;\n",
              "                    background-color: #383838;\n",
              "                }\n",
              "\n",
              "                .geemap-dark .jupyter-button {\n",
              "                    --jp-layout-color3: #383838;\n",
              "                }\n",
              "\n",
              "                .geemap-colab {\n",
              "                    background-color: var(--colab-primary-surface-color, white);\n",
              "                }\n",
              "\n",
              "                .geemap-colab .jupyter-button {\n",
              "                    --jp-layout-color3: var(--colab-primary-surface-color, white);\n",
              "                }\n",
              "            </style>\n",
              "            "
            ]
          },
          "metadata": {}
        }
      ]
    },
    {
      "cell_type": "code",
      "source": [
        "#@title Enter Cloud Project to use with Earth Engine\n",
        "# Please fill in these values.\n",
        "PROJECT = \"\"  # @param {type:\"string\"}\n",
        "\n",
        "PROJECT = None if PROJECT == \"\" else PROJECT\n",
        "\n",
        "# Quick input validations.\n",
        "if not PROJECT:\n",
        "    raise ValueError(\"⚠️ A Google Cloud project was not provided. Please provide a Google Cloud project ID to authenticate EE against.\")"
      ],
      "metadata": {
        "cellView": "form",
        "id": "QnYjj8FRNPI0",
        "colab": {
          "base_uri": "https://localhost:8080/",
          "height": 17
        },
        "executionInfo": {
          "status": "ok",
          "timestamp": 1717610261195,
          "user_tz": 300,
          "elapsed": 11,
          "user": {
            "displayName": "",
            "userId": ""
          }
        },
        "outputId": "3ec08b4d-e84e-4bba-c7da-5f64fbbbf1b5"
      },
      "id": "QnYjj8FRNPI0",
      "execution_count": null,
      "outputs": [
        {
          "output_type": "display_data",
          "data": {
            "text/plain": [
              "<IPython.core.display.HTML object>"
            ],
            "text/html": [
              "\n",
              "            <style>\n",
              "                .geemap-dark {\n",
              "                    --jp-widgets-color: white;\n",
              "                    --jp-widgets-label-color: white;\n",
              "                    --jp-ui-font-color1: white;\n",
              "                    --jp-layout-color2: #454545;\n",
              "                    background-color: #383838;\n",
              "                }\n",
              "\n",
              "                .geemap-dark .jupyter-button {\n",
              "                    --jp-layout-color3: #383838;\n",
              "                }\n",
              "\n",
              "                .geemap-colab {\n",
              "                    background-color: var(--colab-primary-surface-color, white);\n",
              "                }\n",
              "\n",
              "                .geemap-colab .jupyter-button {\n",
              "                    --jp-layout-color3: var(--colab-primary-surface-color, white);\n",
              "                }\n",
              "            </style>\n",
              "            "
            ]
          },
          "metadata": {}
        }
      ]
    },
    {
      "cell_type": "code",
      "source": [
        "# initialize Earth Engine client\n",
        "ee.Initialize(project=PROJECT)"
      ],
      "metadata": {
        "id": "SncbyXBi9qE3",
        "colab": {
          "base_uri": "https://localhost:8080/",
          "height": 17
        },
        "executionInfo": {
          "status": "ok",
          "timestamp": 1717610261911,
          "user_tz": 300,
          "elapsed": 725,
          "user": {
            "displayName": "",
            "userId": ""
          }
        },
        "outputId": "f78e9f30-5bac-406e-f44f-9e131d39d07d"
      },
      "id": "SncbyXBi9qE3",
      "execution_count": null,
      "outputs": [
        {
          "output_type": "display_data",
          "data": {
            "text/plain": [
              "<IPython.core.display.HTML object>"
            ],
            "text/html": [
              "\n",
              "            <style>\n",
              "                .geemap-dark {\n",
              "                    --jp-widgets-color: white;\n",
              "                    --jp-widgets-label-color: white;\n",
              "                    --jp-ui-font-color1: white;\n",
              "                    --jp-layout-color2: #454545;\n",
              "                    background-color: #383838;\n",
              "                }\n",
              "\n",
              "                .geemap-dark .jupyter-button {\n",
              "                    --jp-layout-color3: #383838;\n",
              "                }\n",
              "\n",
              "                .geemap-colab {\n",
              "                    background-color: var(--colab-primary-surface-color, white);\n",
              "                }\n",
              "\n",
              "                .geemap-colab .jupyter-button {\n",
              "                    --jp-layout-color3: var(--colab-primary-surface-color, white);\n",
              "                }\n",
              "            </style>\n",
              "            "
            ]
          },
          "metadata": {}
        }
      ]
    },
    {
      "cell_type": "code",
      "source": [
        "# @title Enter start and end dates for processing\n",
        "start_date = '2020-01-01' # @param {type:\"date\"}\n",
        "end_date = \"\" # @param {type:\"date\"}\n",
        "\n",
        "if end_date == \"\" or end_date is None:\n",
        "    end_date = datetime.datetime.now().strftime('%Y-%m-%d')"
      ],
      "metadata": {
        "colab": {
          "base_uri": "https://localhost:8080/",
          "height": 17
        },
        "cellView": "form",
        "id": "6VNAENDb3Q3O",
        "executionInfo": {
          "status": "ok",
          "timestamp": 1717610262255,
          "user_tz": 300,
          "elapsed": 346,
          "user": {
            "displayName": "",
            "userId": ""
          }
        },
        "outputId": "0844ff54-b18c-4099-c5e2-077744b1682d"
      },
      "id": "6VNAENDb3Q3O",
      "execution_count": null,
      "outputs": [
        {
          "output_type": "display_data",
          "data": {
            "text/plain": [
              "<IPython.core.display.HTML object>"
            ],
            "text/html": [
              "\n",
              "            <style>\n",
              "                .geemap-dark {\n",
              "                    --jp-widgets-color: white;\n",
              "                    --jp-widgets-label-color: white;\n",
              "                    --jp-ui-font-color1: white;\n",
              "                    --jp-layout-color2: #454545;\n",
              "                    background-color: #383838;\n",
              "                }\n",
              "\n",
              "                .geemap-dark .jupyter-button {\n",
              "                    --jp-layout-color3: #383838;\n",
              "                }\n",
              "\n",
              "                .geemap-colab {\n",
              "                    background-color: var(--colab-primary-surface-color, white);\n",
              "                }\n",
              "\n",
              "                .geemap-colab .jupyter-button {\n",
              "                    --jp-layout-color3: var(--colab-primary-surface-color, white);\n",
              "                }\n",
              "            </style>\n",
              "            "
            ]
          },
          "metadata": {}
        }
      ]
    },
    {
      "cell_type": "code",
      "source": [
        "# specify the USGS site code for which we want data.\n",
        "# this site corresponds with the Meduxnekeag River in Maine\n",
        "# https://waterdata.usgs.gov/nwis/inventory?agency_code=USGS&site_no=01018035\n",
        "site = '01018035'\n",
        "\n",
        "gauge_lon_lat = (-67.805, 46.176)"
      ],
      "metadata": {
        "colab": {
          "base_uri": "https://localhost:8080/",
          "height": 17
        },
        "id": "OMUSabXqBiJv",
        "executionInfo": {
          "status": "ok",
          "timestamp": 1717610262255,
          "user_tz": 300,
          "elapsed": 4,
          "user": {
            "displayName": "",
            "userId": ""
          }
        },
        "outputId": "e56388e8-e6b6-45fc-8127-617156a8518f"
      },
      "id": "OMUSabXqBiJv",
      "execution_count": null,
      "outputs": [
        {
          "output_type": "display_data",
          "data": {
            "text/plain": [
              "<IPython.core.display.HTML object>"
            ],
            "text/html": [
              "\n",
              "            <style>\n",
              "                .geemap-dark {\n",
              "                    --jp-widgets-color: white;\n",
              "                    --jp-widgets-label-color: white;\n",
              "                    --jp-ui-font-color1: white;\n",
              "                    --jp-layout-color2: #454545;\n",
              "                    background-color: #383838;\n",
              "                }\n",
              "\n",
              "                .geemap-dark .jupyter-button {\n",
              "                    --jp-layout-color3: #383838;\n",
              "                }\n",
              "\n",
              "                .geemap-colab {\n",
              "                    background-color: var(--colab-primary-surface-color, white);\n",
              "                }\n",
              "\n",
              "                .geemap-colab .jupyter-button {\n",
              "                    --jp-layout-color3: var(--colab-primary-surface-color, white);\n",
              "                }\n",
              "            </style>\n",
              "            "
            ]
          },
          "metadata": {}
        }
      ]
    },
    {
      "cell_type": "code",
      "source": [
        "# get the daily values for the last 40 years from the site with the parameter code 00060 (discharge)\n",
        "gauge = nwis.get_record(sites=site, service='dv', start=start_date, end=end_date,parameterCd='00060')\n",
        "gauge.mask(gauge['00060_Mean'] < 0, inplace=True)\n",
        "gauge.index = gauge.index.tz_localize(None)"
      ],
      "metadata": {
        "colab": {
          "base_uri": "https://localhost:8080/",
          "height": 17
        },
        "id": "17xaxHcAaHly",
        "executionInfo": {
          "status": "ok",
          "timestamp": 1717610262852,
          "user_tz": 300,
          "elapsed": 600,
          "user": {
            "displayName": "",
            "userId": ""
          }
        },
        "outputId": "bfa765f0-250d-44bf-d2fd-d73c729f4fc6"
      },
      "id": "17xaxHcAaHly",
      "execution_count": null,
      "outputs": [
        {
          "output_type": "display_data",
          "data": {
            "text/plain": [
              "<IPython.core.display.HTML object>"
            ],
            "text/html": [
              "\n",
              "            <style>\n",
              "                .geemap-dark {\n",
              "                    --jp-widgets-color: white;\n",
              "                    --jp-widgets-label-color: white;\n",
              "                    --jp-ui-font-color1: white;\n",
              "                    --jp-layout-color2: #454545;\n",
              "                    background-color: #383838;\n",
              "                }\n",
              "\n",
              "                .geemap-dark .jupyter-button {\n",
              "                    --jp-layout-color3: #383838;\n",
              "                }\n",
              "\n",
              "                .geemap-colab {\n",
              "                    background-color: var(--colab-primary-surface-color, white);\n",
              "                }\n",
              "\n",
              "                .geemap-colab .jupyter-button {\n",
              "                    --jp-layout-color3: var(--colab-primary-surface-color, white);\n",
              "                }\n",
              "            </style>\n",
              "            "
            ]
          },
          "metadata": {}
        }
      ]
    },
    {
      "cell_type": "code",
      "source": [
        "# load in the HUC8 watersheds from Earth Engine\n",
        "huc08_basins = ee.FeatureCollection(\"USGS/WBD/2017/HUC08\")"
      ],
      "metadata": {
        "colab": {
          "base_uri": "https://localhost:8080/",
          "height": 17
        },
        "id": "1aUPS0fIbqtc",
        "executionInfo": {
          "status": "ok",
          "timestamp": 1717610262853,
          "user_tz": 300,
          "elapsed": 3,
          "user": {
            "displayName": "",
            "userId": ""
          }
        },
        "outputId": "d2a0e08f-1d41-484d-ee6e-3bbee3178f27"
      },
      "id": "1aUPS0fIbqtc",
      "execution_count": null,
      "outputs": [
        {
          "output_type": "display_data",
          "data": {
            "text/plain": [
              "<IPython.core.display.HTML object>"
            ],
            "text/html": [
              "\n",
              "            <style>\n",
              "                .geemap-dark {\n",
              "                    --jp-widgets-color: white;\n",
              "                    --jp-widgets-label-color: white;\n",
              "                    --jp-ui-font-color1: white;\n",
              "                    --jp-layout-color2: #454545;\n",
              "                    background-color: #383838;\n",
              "                }\n",
              "\n",
              "                .geemap-dark .jupyter-button {\n",
              "                    --jp-layout-color3: #383838;\n",
              "                }\n",
              "\n",
              "                .geemap-colab {\n",
              "                    background-color: var(--colab-primary-surface-color, white);\n",
              "                }\n",
              "\n",
              "                .geemap-colab .jupyter-button {\n",
              "                    --jp-layout-color3: var(--colab-primary-surface-color, white);\n",
              "                }\n",
              "            </style>\n",
              "            "
            ]
          },
          "metadata": {}
        }
      ]
    },
    {
      "cell_type": "code",
      "source": [
        "# get the gauge as a point geometry in Earth Engine\n",
        "ee_gauge = ee.Geometry.Point(*gauge_lon_lat)\n",
        "\n",
        "# filter the watersheds to the basin the gauge is in\n",
        "basin = ee.Feature(\n",
        "    huc08_basins\n",
        "    .filterBounds(ee_gauge)\n",
        "    .first()\n",
        ")"
      ],
      "metadata": {
        "colab": {
          "base_uri": "https://localhost:8080/",
          "height": 17
        },
        "id": "umbTlRyFcB0P",
        "executionInfo": {
          "status": "ok",
          "timestamp": 1717610263186,
          "user_tz": 300,
          "elapsed": 335,
          "user": {
            "displayName": "",
            "userId": ""
          }
        },
        "outputId": "0ba58def-68eb-4d1a-b69d-d04821d39848"
      },
      "id": "umbTlRyFcB0P",
      "execution_count": null,
      "outputs": [
        {
          "output_type": "display_data",
          "data": {
            "text/plain": [
              "<IPython.core.display.HTML object>"
            ],
            "text/html": [
              "\n",
              "            <style>\n",
              "                .geemap-dark {\n",
              "                    --jp-widgets-color: white;\n",
              "                    --jp-widgets-label-color: white;\n",
              "                    --jp-ui-font-color1: white;\n",
              "                    --jp-layout-color2: #454545;\n",
              "                    background-color: #383838;\n",
              "                }\n",
              "\n",
              "                .geemap-dark .jupyter-button {\n",
              "                    --jp-layout-color3: #383838;\n",
              "                }\n",
              "\n",
              "                .geemap-colab {\n",
              "                    background-color: var(--colab-primary-surface-color, white);\n",
              "                }\n",
              "\n",
              "                .geemap-colab .jupyter-button {\n",
              "                    --jp-layout-color3: var(--colab-primary-surface-color, white);\n",
              "                }\n",
              "            </style>\n",
              "            "
            ]
          },
          "metadata": {}
        }
      ]
    },
    {
      "cell_type": "code",
      "source": [
        "# visualize the basin and gauge on a map\n",
        "m = geemap.Map()\n",
        "m.add_layer(basin, {}, 'Basin')\n",
        "m.add_layer(ee_gauge, {'color':'yellow'}, 'Gauge')\n",
        "m.center_object(ee_gauge, 10)\n",
        "m"
      ],
      "metadata": {
        "id": "SAGRDTV7dSyL"
      },
      "id": "SAGRDTV7dSyL",
      "execution_count": null,
      "outputs": []
    },
    {
      "cell_type": "code",
      "source": [
        "# get the area of the basin\n",
        "# this is used to normalize discharge\n",
        "area_sqm = float(basin.geometry().area().getInfo())"
      ],
      "metadata": {
        "colab": {
          "base_uri": "https://localhost:8080/",
          "height": 17
        },
        "id": "DovxOGCNcMTO",
        "executionInfo": {
          "status": "ok",
          "timestamp": 1717610265291,
          "user_tz": 300,
          "elapsed": 452,
          "user": {
            "displayName": "",
            "userId": ""
          }
        },
        "outputId": "cceb9a73-6270-4638-f27a-984da94c5ab5"
      },
      "id": "DovxOGCNcMTO",
      "execution_count": null,
      "outputs": [
        {
          "output_type": "display_data",
          "data": {
            "text/plain": [
              "<IPython.core.display.HTML object>"
            ],
            "text/html": [
              "\n",
              "            <style>\n",
              "                .geemap-dark {\n",
              "                    --jp-widgets-color: white;\n",
              "                    --jp-widgets-label-color: white;\n",
              "                    --jp-ui-font-color1: white;\n",
              "                    --jp-layout-color2: #454545;\n",
              "                    background-color: #383838;\n",
              "                }\n",
              "\n",
              "                .geemap-dark .jupyter-button {\n",
              "                    --jp-layout-color3: #383838;\n",
              "                }\n",
              "\n",
              "                .geemap-colab {\n",
              "                    background-color: var(--colab-primary-surface-color, white);\n",
              "                }\n",
              "\n",
              "                .geemap-colab .jupyter-button {\n",
              "                    --jp-layout-color3: var(--colab-primary-surface-color, white);\n",
              "                }\n",
              "            </style>\n",
              "            "
            ]
          },
          "metadata": {}
        }
      ]
    },
    {
      "cell_type": "code",
      "source": [
        "# normalize discharge from cubic feet per second to mm per day\n",
        "gauge['mm/day'] = 28316846.592 * gauge['00060_Mean'] * 86400 / (area_sqm * 1e6)"
      ],
      "metadata": {
        "colab": {
          "base_uri": "https://localhost:8080/",
          "height": 17
        },
        "id": "3oNdZUQHdjOx",
        "executionInfo": {
          "status": "ok",
          "timestamp": 1717610265291,
          "user_tz": 300,
          "elapsed": 4,
          "user": {
            "displayName": "",
            "userId": ""
          }
        },
        "outputId": "2b065246-e018-4a83-a858-31f14837daa0"
      },
      "id": "3oNdZUQHdjOx",
      "execution_count": null,
      "outputs": [
        {
          "output_type": "display_data",
          "data": {
            "text/plain": [
              "<IPython.core.display.HTML object>"
            ],
            "text/html": [
              "\n",
              "            <style>\n",
              "                .geemap-dark {\n",
              "                    --jp-widgets-color: white;\n",
              "                    --jp-widgets-label-color: white;\n",
              "                    --jp-ui-font-color1: white;\n",
              "                    --jp-layout-color2: #454545;\n",
              "                    background-color: #383838;\n",
              "                }\n",
              "\n",
              "                .geemap-dark .jupyter-button {\n",
              "                    --jp-layout-color3: #383838;\n",
              "                }\n",
              "\n",
              "                .geemap-colab {\n",
              "                    background-color: var(--colab-primary-surface-color, white);\n",
              "                }\n",
              "\n",
              "                .geemap-colab .jupyter-button {\n",
              "                    --jp-layout-color3: var(--colab-primary-surface-color, white);\n",
              "                }\n",
              "            </style>\n",
              "            "
            ]
          },
          "metadata": {}
        }
      ]
    },
    {
      "cell_type": "code",
      "source": [
        "# plot the gauge data\n",
        "gauge['mm/day'].plot();"
      ],
      "metadata": {
        "id": "zzb8MP2TaOqU"
      },
      "id": "zzb8MP2TaOqU",
      "execution_count": null,
      "outputs": []
    },
    {
      "cell_type": "code",
      "source": [
        "# specify the names of the features/bands we use\n",
        "# these must correspond to the dynamic_inputs used to train the model\n",
        "in_features = ['prcp','srad','tmax','tmin','vp']"
      ],
      "metadata": {
        "colab": {
          "base_uri": "https://localhost:8080/",
          "height": 17
        },
        "id": "MUZqXRB0jtnl",
        "executionInfo": {
          "status": "ok",
          "timestamp": 1717610266084,
          "user_tz": 300,
          "elapsed": 5,
          "user": {
            "displayName": "",
            "userId": ""
          }
        },
        "outputId": "330fbfe2-598f-4136-e202-d8451b6ce18d"
      },
      "id": "MUZqXRB0jtnl",
      "execution_count": null,
      "outputs": [
        {
          "output_type": "display_data",
          "data": {
            "text/plain": [
              "<IPython.core.display.HTML object>"
            ],
            "text/html": [
              "\n",
              "            <style>\n",
              "                .geemap-dark {\n",
              "                    --jp-widgets-color: white;\n",
              "                    --jp-widgets-label-color: white;\n",
              "                    --jp-ui-font-color1: white;\n",
              "                    --jp-layout-color2: #454545;\n",
              "                    background-color: #383838;\n",
              "                }\n",
              "\n",
              "                .geemap-dark .jupyter-button {\n",
              "                    --jp-layout-color3: #383838;\n",
              "                }\n",
              "\n",
              "                .geemap-colab {\n",
              "                    background-color: var(--colab-primary-surface-color, white);\n",
              "                }\n",
              "\n",
              "                .geemap-colab .jupyter-button {\n",
              "                    --jp-layout-color3: var(--colab-primary-surface-color, white);\n",
              "                }\n",
              "            </style>\n",
              "            "
            ]
          },
          "metadata": {}
        }
      ]
    },
    {
      "cell_type": "code",
      "source": [
        "# load in the daymet collection and filter to dates\n",
        "# select out the features to input into model\n",
        "daymet_collection = (\n",
        "    ee.ImageCollection('NASA/ORNL/DAYMET_V4')\n",
        "    .filterDate(start_date, end_date)\n",
        "    .select(in_features)\n",
        ")"
      ],
      "metadata": {
        "colab": {
          "base_uri": "https://localhost:8080/",
          "height": 17
        },
        "id": "Sa_yRv-NfCiO",
        "executionInfo": {
          "status": "ok",
          "timestamp": 1717610266084,
          "user_tz": 300,
          "elapsed": 5,
          "user": {
            "displayName": "",
            "userId": ""
          }
        },
        "outputId": "4c32a219-c4ab-4f2f-d7eb-73b364579af0"
      },
      "id": "Sa_yRv-NfCiO",
      "execution_count": null,
      "outputs": [
        {
          "output_type": "display_data",
          "data": {
            "text/plain": [
              "<IPython.core.display.HTML object>"
            ],
            "text/html": [
              "\n",
              "            <style>\n",
              "                .geemap-dark {\n",
              "                    --jp-widgets-color: white;\n",
              "                    --jp-widgets-label-color: white;\n",
              "                    --jp-ui-font-color1: white;\n",
              "                    --jp-layout-color2: #454545;\n",
              "                    background-color: #383838;\n",
              "                }\n",
              "\n",
              "                .geemap-dark .jupyter-button {\n",
              "                    --jp-layout-color3: #383838;\n",
              "                }\n",
              "\n",
              "                .geemap-colab {\n",
              "                    background-color: var(--colab-primary-surface-color, white);\n",
              "                }\n",
              "\n",
              "                .geemap-colab .jupyter-button {\n",
              "                    --jp-layout-color3: var(--colab-primary-surface-color, white);\n",
              "                }\n",
              "            </style>\n",
              "            "
            ]
          },
          "metadata": {}
        }
      ]
    },
    {
      "cell_type": "markdown",
      "source": [
        "> **NOTE:** If you used another meteorological forcing to train the network then make sure you update the image collection to the same one used to train the model"
      ],
      "metadata": {
        "id": "Q696SJWjSaxz"
      },
      "id": "Q696SJWjSaxz"
    },
    {
      "cell_type": "code",
      "source": [
        "#@title Time series function\n",
        "def get_timeseries(forcings, basin):\n",
        "    \"\"\"Calcualte a time series of forcings for a given basin.\n",
        "\n",
        "       args:\n",
        "           basin (ee.Feature): Feature of the basin to calculate the time series for\n",
        "\n",
        "       returns:\n",
        "           pd.DataFrame: table of time series of forcings\n",
        "    \"\"\"\n",
        "\n",
        "    def calc_ts(t):\n",
        "        # determine start and end time for the reduction\n",
        "        t1 = ee.Date(t)\n",
        "        t2 = t1.advance(1, 'day')\n",
        "\n",
        "        # get the first image within time range\n",
        "        img = forcings.filterDate(t1, t2).first()\n",
        "\n",
        "        # apply the reduction for the areal avg precip\n",
        "        stat = img.reduceRegion(\n",
        "            geometry=basin.geometry(maxError=1e3),\n",
        "            reducer=ee.Reducer.mean(),\n",
        "            scale=img.projection().nominalScale(),\n",
        "            tileScale=2\n",
        "        )\n",
        "\n",
        "        # update the reduction result with time info\n",
        "        stat = stat.combine({\n",
        "            'date': t1.format('YYYY-MM-dd HH:mm:ss'),\n",
        "            'system:time_start': t1.millis()\n",
        "        })\n",
        "        return ee.Feature(None, stat)  # return as a feature with no geometry\n",
        "\n",
        "    # get the years for a time series\n",
        "    datetimes = forcings.aggregate_array('system:time_start')\n",
        "\n",
        "    # map over all of the forecast times and convert to FeatureCollection\n",
        "    ts = ee.FeatureCollection(datetimes.map(calc_ts))\n",
        "\n",
        "    # request that the table be returned as pd.DataFrame\n",
        "    return ee.data.computeFeatures({\n",
        "        'expression': ts,\n",
        "        'fileFormat': 'PANDAS_DATAFRAME'\n",
        "    })"
      ],
      "metadata": {
        "colab": {
          "base_uri": "https://localhost:8080/",
          "height": 17
        },
        "cellView": "form",
        "id": "iAmZlhm5fXZ5",
        "executionInfo": {
          "status": "ok",
          "timestamp": 1717610266084,
          "user_tz": 300,
          "elapsed": 4,
          "user": {
            "displayName": "",
            "userId": ""
          }
        },
        "outputId": "add28265-33ad-44ce-cf18-b4679d003bc7"
      },
      "id": "iAmZlhm5fXZ5",
      "execution_count": null,
      "outputs": [
        {
          "output_type": "display_data",
          "data": {
            "text/plain": [
              "<IPython.core.display.HTML object>"
            ],
            "text/html": [
              "\n",
              "            <style>\n",
              "                .geemap-dark {\n",
              "                    --jp-widgets-color: white;\n",
              "                    --jp-widgets-label-color: white;\n",
              "                    --jp-ui-font-color1: white;\n",
              "                    --jp-layout-color2: #454545;\n",
              "                    background-color: #383838;\n",
              "                }\n",
              "\n",
              "                .geemap-dark .jupyter-button {\n",
              "                    --jp-layout-color3: #383838;\n",
              "                }\n",
              "\n",
              "                .geemap-colab {\n",
              "                    background-color: var(--colab-primary-surface-color, white);\n",
              "                }\n",
              "\n",
              "                .geemap-colab .jupyter-button {\n",
              "                    --jp-layout-color3: var(--colab-primary-surface-color, white);\n",
              "                }\n",
              "            </style>\n",
              "            "
            ]
          },
          "metadata": {}
        }
      ]
    },
    {
      "cell_type": "code",
      "source": [
        "# request a time series of the meteorological inputs for the basin\n",
        "daymet_df = get_timeseries(daymet_collection, basin)\n",
        "daymet_df.index = pd.to_datetime(daymet_df.date)"
      ],
      "metadata": {
        "colab": {
          "base_uri": "https://localhost:8080/",
          "height": 17
        },
        "id": "8YzYF145ghC-",
        "executionInfo": {
          "status": "ok",
          "timestamp": 1717621721883,
          "user_tz": 300,
          "elapsed": 171977,
          "user": {
            "displayName": "",
            "userId": ""
          }
        },
        "outputId": "75ea018e-abe1-4d09-a46b-d9f5997d6610"
      },
      "id": "8YzYF145ghC-",
      "execution_count": null,
      "outputs": [
        {
          "output_type": "display_data",
          "data": {
            "text/plain": [
              "<IPython.core.display.HTML object>"
            ],
            "text/html": [
              "\n",
              "            <style>\n",
              "                .geemap-dark {\n",
              "                    --jp-widgets-color: white;\n",
              "                    --jp-widgets-label-color: white;\n",
              "                    --jp-ui-font-color1: white;\n",
              "                    --jp-layout-color2: #454545;\n",
              "                    background-color: #383838;\n",
              "                }\n",
              "\n",
              "                .geemap-dark .jupyter-button {\n",
              "                    --jp-layout-color3: #383838;\n",
              "                }\n",
              "\n",
              "                .geemap-colab {\n",
              "                    background-color: var(--colab-primary-surface-color, white);\n",
              "                }\n",
              "\n",
              "                .geemap-colab .jupyter-button {\n",
              "                    --jp-layout-color3: var(--colab-primary-surface-color, white);\n",
              "                }\n",
              "            </style>\n",
              "            "
            ]
          },
          "metadata": {}
        }
      ]
    },
    {
      "cell_type": "markdown",
      "source": [
        "Depending on the size of basin this can timeout. If you would like to run this for large or many basins then it is better to [export the table](https://developers.google.com/earth-engine/guides/exporting_tables) rather than to read in a DataFrame"
      ],
      "metadata": {
        "id": "JR5lz2wnTWAK"
      },
      "id": "JR5lz2wnTWAK"
    },
    {
      "cell_type": "code",
      "source": [
        "# display resulting dataframe\n",
        "daymet_df.head()"
      ],
      "metadata": {
        "id": "s_3kv61vjj8e"
      },
      "id": "s_3kv61vjj8e",
      "execution_count": null,
      "outputs": []
    },
    {
      "cell_type": "code",
      "source": [
        "# plot each feature\n",
        "daymet_df[in_features].plot(subplots=True, figsize=(7, 7));"
      ],
      "metadata": {
        "id": "JQcU3fZuw_Dk"
      },
      "id": "JQcU3fZuw_Dk",
      "execution_count": null,
      "outputs": []
    },
    {
      "cell_type": "code",
      "source": [
        "import google.cloud.aiplatform as aip"
      ],
      "metadata": {
        "id": "_8St0MNZOQIu"
      },
      "id": "_8St0MNZOQIu",
      "execution_count": null,
      "outputs": []
    },
    {
      "cell_type": "code",
      "source": [
        "#@title Enter VertexAI Endpoint name to use\n",
        "# Please fill in these values.\n",
        "ENDPOINT_NAME = \"\"  # @param {type:\"string\"}\n",
        "\n",
        "ENDPOINT_NAME = None if ENDPOINT_NAME == \"\" else ENDPOINT_NAME\n",
        "\n",
        "# Quick input validations.\n",
        "if not ENDPOINT_NAME:\n",
        "    raise ValueError(\"⚠️ An Endpoint name was not provided. Please provide an endpoint name to run predictions.\")"
      ],
      "metadata": {
        "id": "i9hW9BaAXfe0",
        "cellView": "form"
      },
      "id": "i9hW9BaAXfe0",
      "execution_count": null,
      "outputs": []
    },
    {
      "cell_type": "code",
      "source": [
        "neuralhydro_endpoint = aip.Endpoint.list(filter=f'displayName={ENDPOINT_NAME}')[0]"
      ],
      "metadata": {
        "id": "32BJ-0_X9A-b"
      },
      "id": "32BJ-0_X9A-b",
      "execution_count": null,
      "outputs": []
    },
    {
      "cell_type": "code",
      "source": [
        "# convert the dataframe values into a list to send for prediction\n",
        "in_data = daymet_df[in_features].values.tolist()"
      ],
      "metadata": {
        "id": "VQtd52IvIC2b",
        "colab": {
          "base_uri": "https://localhost:8080/",
          "height": 17
        },
        "executionInfo": {
          "status": "ok",
          "timestamp": 1717680853790,
          "user_tz": 300,
          "elapsed": 5,
          "user": {
            "displayName": "",
            "userId": ""
          }
        },
        "outputId": "f84d3a75-7071-4d81-ccdd-96ffbaa44144"
      },
      "id": "VQtd52IvIC2b",
      "execution_count": null,
      "outputs": [
        {
          "output_type": "display_data",
          "data": {
            "text/plain": [
              "<IPython.core.display.HTML object>"
            ],
            "text/html": [
              "\n",
              "            <style>\n",
              "                .geemap-dark {\n",
              "                    --jp-widgets-color: white;\n",
              "                    --jp-widgets-label-color: white;\n",
              "                    --jp-ui-font-color1: white;\n",
              "                    --jp-layout-color2: #454545;\n",
              "                    background-color: #383838;\n",
              "                }\n",
              "\n",
              "                .geemap-dark .jupyter-button {\n",
              "                    --jp-layout-color3: #383838;\n",
              "                }\n",
              "\n",
              "                .geemap-colab {\n",
              "                    background-color: var(--colab-primary-surface-color, white);\n",
              "                }\n",
              "\n",
              "                .geemap-colab .jupyter-button {\n",
              "                    --jp-layout-color3: var(--colab-primary-surface-color, white);\n",
              "                }\n",
              "            </style>\n",
              "            "
            ]
          },
          "metadata": {}
        }
      ]
    },
    {
      "cell_type": "code",
      "source": [
        "response = neuralhydro_endpoint.predict(instances=in_data)"
      ],
      "metadata": {
        "colab": {
          "base_uri": "https://localhost:8080/",
          "height": 17
        },
        "id": "CfXG7t19O91m",
        "executionInfo": {
          "status": "ok",
          "timestamp": 1717701177739,
          "user_tz": 300,
          "elapsed": 664,
          "user": {
            "displayName": "",
            "userId": ""
          }
        },
        "outputId": "13ad2c67-5dd6-451e-b559-253b0df6710b"
      },
      "id": "CfXG7t19O91m",
      "execution_count": null,
      "outputs": [
        {
          "output_type": "display_data",
          "data": {
            "text/plain": [
              "<IPython.core.display.HTML object>"
            ],
            "text/html": [
              "\n",
              "            <style>\n",
              "                .geemap-dark {\n",
              "                    --jp-widgets-color: white;\n",
              "                    --jp-widgets-label-color: white;\n",
              "                    --jp-ui-font-color1: white;\n",
              "                    --jp-layout-color2: #454545;\n",
              "                    background-color: #383838;\n",
              "                }\n",
              "\n",
              "                .geemap-dark .jupyter-button {\n",
              "                    --jp-layout-color3: #383838;\n",
              "                }\n",
              "\n",
              "                .geemap-colab {\n",
              "                    background-color: var(--colab-primary-surface-color, white);\n",
              "                }\n",
              "\n",
              "                .geemap-colab .jupyter-button {\n",
              "                    --jp-layout-color3: var(--colab-primary-surface-color, white);\n",
              "                }\n",
              "            </style>\n",
              "            "
            ]
          },
          "metadata": {}
        }
      ]
    },
    {
      "cell_type": "markdown",
      "source": [
        "You can also use a simple HTTP request to the endpoint on Vertex AI as well. The endpoint is formatted as `https://{REGION}-aiplatform.googleapis.com/v1/projects/{PROJECT_ID}/locations/{REGION}/endpoints/{ENDPOINT_ID}:predict`\n"
      ],
      "metadata": {
        "id": "4UL9S8c-XiLk"
      },
      "id": "4UL9S8c-XiLk"
    },
    {
      "cell_type": "code",
      "source": [
        "response.predictions[:5]"
      ],
      "metadata": {
        "id": "JTKtL6OgPFRT"
      },
      "id": "JTKtL6OgPFRT",
      "execution_count": null,
      "outputs": []
    },
    {
      "cell_type": "code",
      "source": [
        "# convert the array to a time series\n",
        "q_df = pd.Series(np.squeeze(response.predictions), index=daymet_df.index[365:])"
      ],
      "metadata": {
        "colab": {
          "base_uri": "https://localhost:8080/",
          "height": 17
        },
        "id": "FE9pEDxdlg5c",
        "executionInfo": {
          "status": "ok",
          "timestamp": 1717701188466,
          "user_tz": 300,
          "elapsed": 317,
          "user": {
            "displayName": "",
            "userId": ""
          }
        },
        "outputId": "89c14e1e-57cf-49e3-c6bf-46b5daed790a"
      },
      "id": "FE9pEDxdlg5c",
      "execution_count": null,
      "outputs": [
        {
          "output_type": "display_data",
          "data": {
            "text/plain": [
              "<IPython.core.display.HTML object>"
            ],
            "text/html": [
              "\n",
              "            <style>\n",
              "                .geemap-dark {\n",
              "                    --jp-widgets-color: white;\n",
              "                    --jp-widgets-label-color: white;\n",
              "                    --jp-ui-font-color1: white;\n",
              "                    --jp-layout-color2: #454545;\n",
              "                    background-color: #383838;\n",
              "                }\n",
              "\n",
              "                .geemap-dark .jupyter-button {\n",
              "                    --jp-layout-color3: #383838;\n",
              "                }\n",
              "\n",
              "                .geemap-colab {\n",
              "                    background-color: var(--colab-primary-surface-color, white);\n",
              "                }\n",
              "\n",
              "                .geemap-colab .jupyter-button {\n",
              "                    --jp-layout-color3: var(--colab-primary-surface-color, white);\n",
              "                }\n",
              "            </style>\n",
              "            "
            ]
          },
          "metadata": {}
        }
      ]
    },
    {
      "cell_type": "code",
      "source": [
        "# plot the results with the observed data\n",
        "ax = q_df.plot(label='Prediction')\n",
        "gauge['mm/day'].plot(ax=ax,label='Observed', color='k')\n",
        "ax.legend();"
      ],
      "metadata": {
        "id": "rWsw9xAJm6CJ"
      },
      "id": "rWsw9xAJm6CJ",
      "execution_count": null,
      "outputs": []
    },
    {
      "cell_type": "code",
      "source": [],
      "metadata": {
        "id": "yrG21p-oxScF"
      },
      "id": "yrG21p-oxScF",
      "execution_count": null,
      "outputs": []
    }
  ],
  "metadata": {
    "kernelspec": {
      "display_name": "Python 3",
      "language": "python",
      "name": "python3"
    },
    "language_info": {
      "codemirror_mode": {
        "name": "ipython",
        "version": 3
      },
      "file_extension": ".py",
      "mimetype": "text/x-python",
      "name": "python",
      "nbconvert_exporter": "python",
      "pygments_lexer": "ipython3",
      "version": "3.10.10"
    },
    "colab": {
      "provenance": [],
      "name": "dev_nh_earthengine_cf_prediction"
    }
  },
  "nbformat": 4,
  "nbformat_minor": 5
}