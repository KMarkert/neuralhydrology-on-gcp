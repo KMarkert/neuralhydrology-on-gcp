{
  "cells": [
    {
      "cell_type": "code",
      "source": [
        "!pip install dataretrieval -q"
      ],
      "metadata": {
        "id": "6iG5g4HoXLMl"
      },
      "id": "6iG5g4HoXLMl",
      "execution_count": null,
      "outputs": []
    },
    {
      "cell_type": "code",
      "source": [
        "import datetime\n",
        "import json\n",
        "import requests\n",
        "\n",
        "import ee\n",
        "import geemap\n",
        "\n",
        "import dataretrieval.nwis as nwis"
      ],
      "metadata": {
        "colab": {
          "base_uri": "https://localhost:8080/",
          "height": 17
        },
        "id": "LwfbXrUN9mW2",
        "executionInfo": {
          "status": "ok",
          "timestamp": 1716938166311,
          "user_tz": 0,
          "elapsed": 111,
          "user": {
            "displayName": "",
            "userId": ""
          }
        },
        "outputId": "1dfe774f-36a8-4810-bdac-0b9b1ab34f75"
      },
      "id": "LwfbXrUN9mW2",
      "execution_count": null,
      "outputs": [
        {
          "output_type": "display_data",
          "data": {
            "text/plain": [
              "<IPython.core.display.HTML object>"
            ],
            "text/html": [
              "\n",
              "            <style>\n",
              "                .geemap-dark {\n",
              "                    --jp-widgets-color: white;\n",
              "                    --jp-widgets-label-color: white;\n",
              "                    --jp-ui-font-color1: white;\n",
              "                    --jp-layout-color2: #454545;\n",
              "                    background-color: #383838;\n",
              "                }\n",
              "\n",
              "                .geemap-dark .jupyter-button {\n",
              "                    --jp-layout-color3: #383838;\n",
              "                }\n",
              "\n",
              "                .geemap-colab {\n",
              "                    background-color: var(--colab-primary-surface-color, white);\n",
              "                }\n",
              "\n",
              "                .geemap-colab .jupyter-button {\n",
              "                    --jp-layout-color3: var(--colab-primary-surface-color, white);\n",
              "                }\n",
              "            </style>\n",
              "            "
            ]
          },
          "metadata": {}
        }
      ]
    },
    {
      "cell_type": "code",
      "source": [
        "#@title Enter Cloud Project to use with Earth Engine\n",
        "# Please fill in these values.\n",
        "PROJECT = \"\"  # @param {type:\"string\"}\n",
        "\n",
        "PROJECT = None if PROJECT == \"\" else PROJECT\n",
        "\n",
        "# Quick input validations.\n",
        "if not PROJECT:\n",
        "    raise ValueError(\"⚠️ A Google Cloud project was not provided. Please provide a Google Cloud project ID to authenticate EE against.\")"
      ],
      "metadata": {
        "cellView": "form",
        "id": "QnYjj8FRNPI0"
      },
      "id": "QnYjj8FRNPI0",
      "execution_count": null,
      "outputs": []
    },
    {
      "cell_type": "code",
      "source": [
        "# initialize Earth Engine client\n",
        "ee.Initialize(project=PROJECT)"
      ],
      "metadata": {
        "id": "SncbyXBi9qE3"
      },
      "id": "SncbyXBi9qE3",
      "execution_count": null,
      "outputs": []
    },
    {
      "cell_type": "code",
      "source": [
        "# @title Enter start and end dates for processing\n",
        "start_date = '2020-01-01' # @param {type:\"date\"}\n",
        "end_date = \"\" # @param {type:\"date\"}\n",
        "\n",
        "if end_date == \"\" or end_date is None:\n",
        "    end_date = datetime.datetime.now().strftime('%Y-%m-%d')"
      ],
      "metadata": {
        "colab": {
          "base_uri": "https://localhost:8080/",
          "height": 17
        },
        "cellView": "form",
        "id": "6VNAENDb3Q3O",
        "executionInfo": {
          "status": "ok",
          "timestamp": 1716944574653,
          "user_tz": 0,
          "elapsed": 93,
          "user": {
            "displayName": "",
            "userId": ""
          }
        },
        "outputId": "dd4a80e9-16cb-4c7d-fe3b-f3a3ef52719d"
      },
      "id": "6VNAENDb3Q3O",
      "execution_count": null,
      "outputs": [
        {
          "output_type": "display_data",
          "data": {
            "text/plain": [
              "<IPython.core.display.HTML object>"
            ],
            "text/html": [
              "\n",
              "            <style>\n",
              "                .geemap-dark {\n",
              "                    --jp-widgets-color: white;\n",
              "                    --jp-widgets-label-color: white;\n",
              "                    --jp-ui-font-color1: white;\n",
              "                    --jp-layout-color2: #454545;\n",
              "                    background-color: #383838;\n",
              "                }\n",
              "\n",
              "                .geemap-dark .jupyter-button {\n",
              "                    --jp-layout-color3: #383838;\n",
              "                }\n",
              "\n",
              "                .geemap-colab {\n",
              "                    background-color: var(--colab-primary-surface-color, white);\n",
              "                }\n",
              "\n",
              "                .geemap-colab .jupyter-button {\n",
              "                    --jp-layout-color3: var(--colab-primary-surface-color, white);\n",
              "                }\n",
              "            </style>\n",
              "            "
            ]
          },
          "metadata": {}
        }
      ]
    },
    {
      "cell_type": "code",
      "source": [
        "# specify the USGS site code for which we want data.\n",
        "# this site corresponds with the Meduxnekeag River in Maine\n",
        "# https://waterdata.usgs.gov/nwis/inventory?agency_code=USGS&site_no=01018035\n",
        "site = '01018035'\n",
        "\n",
        "gauge_lon_lat = (-67.805, 46.176)"
      ],
      "metadata": {
        "colab": {
          "base_uri": "https://localhost:8080/",
          "height": 17
        },
        "id": "OMUSabXqBiJv",
        "executionInfo": {
          "status": "ok",
          "timestamp": 1716984600730,
          "user_tz": 0,
          "elapsed": 73,
          "user": {
            "displayName": "",
            "userId": ""
          }
        },
        "outputId": "6b082343-cfb7-42c4-ade2-da89d856acd0"
      },
      "id": "OMUSabXqBiJv",
      "execution_count": null,
      "outputs": [
        {
          "output_type": "display_data",
          "data": {
            "text/plain": [
              "<IPython.core.display.HTML object>"
            ],
            "text/html": [
              "\n",
              "            <style>\n",
              "                .geemap-dark {\n",
              "                    --jp-widgets-color: white;\n",
              "                    --jp-widgets-label-color: white;\n",
              "                    --jp-ui-font-color1: white;\n",
              "                    --jp-layout-color2: #454545;\n",
              "                    background-color: #383838;\n",
              "                }\n",
              "\n",
              "                .geemap-dark .jupyter-button {\n",
              "                    --jp-layout-color3: #383838;\n",
              "                }\n",
              "\n",
              "                .geemap-colab {\n",
              "                    background-color: var(--colab-primary-surface-color, white);\n",
              "                }\n",
              "\n",
              "                .geemap-colab .jupyter-button {\n",
              "                    --jp-layout-color3: var(--colab-primary-surface-color, white);\n",
              "                }\n",
              "            </style>\n",
              "            "
            ]
          },
          "metadata": {}
        }
      ]
    },
    {
      "cell_type": "code",
      "source": [
        "# get the daily values for the last 40 years from the site with the parameter code 00060 (discharge)\n",
        "gauge = nwis.get_record(sites=site, service='dv', start=start_date, end=end_date,parameterCd='00060')\n",
        "gauge.mask(gauge['00060_Mean'] < 0, inplace=True)\n",
        "gauge.index = gauge.index.tz_localize(None)"
      ],
      "metadata": {
        "colab": {
          "base_uri": "https://localhost:8080/",
          "height": 17
        },
        "id": "17xaxHcAaHly",
        "executionInfo": {
          "status": "ok",
          "timestamp": 1716985711069,
          "user_tz": 0,
          "elapsed": 312,
          "user": {
            "displayName": "",
            "userId": ""
          }
        },
        "outputId": "c0677a0b-8769-40e5-9c44-fe2a8be44817"
      },
      "id": "17xaxHcAaHly",
      "execution_count": null,
      "outputs": [
        {
          "output_type": "display_data",
          "data": {
            "text/plain": [
              "<IPython.core.display.HTML object>"
            ],
            "text/html": [
              "\n",
              "            <style>\n",
              "                .geemap-dark {\n",
              "                    --jp-widgets-color: white;\n",
              "                    --jp-widgets-label-color: white;\n",
              "                    --jp-ui-font-color1: white;\n",
              "                    --jp-layout-color2: #454545;\n",
              "                    background-color: #383838;\n",
              "                }\n",
              "\n",
              "                .geemap-dark .jupyter-button {\n",
              "                    --jp-layout-color3: #383838;\n",
              "                }\n",
              "\n",
              "                .geemap-colab {\n",
              "                    background-color: var(--colab-primary-surface-color, white);\n",
              "                }\n",
              "\n",
              "                .geemap-colab .jupyter-button {\n",
              "                    --jp-layout-color3: var(--colab-primary-surface-color, white);\n",
              "                }\n",
              "            </style>\n",
              "            "
            ]
          },
          "metadata": {}
        }
      ]
    },
    {
      "cell_type": "code",
      "source": [
        "# load in the HUC8 watersheds from Earth Engine\n",
        "huc08_basins = ee.FeatureCollection(\"USGS/WBD/2017/HUC08\")"
      ],
      "metadata": {
        "colab": {
          "base_uri": "https://localhost:8080/",
          "height": 17
        },
        "id": "1aUPS0fIbqtc",
        "executionInfo": {
          "status": "ok",
          "timestamp": 1716984602387,
          "user_tz": 0,
          "elapsed": 102,
          "user": {
            "displayName": "",
            "userId": ""
          }
        },
        "outputId": "37983135-d372-4e57-b100-820d49342320"
      },
      "id": "1aUPS0fIbqtc",
      "execution_count": null,
      "outputs": [
        {
          "output_type": "display_data",
          "data": {
            "text/plain": [
              "<IPython.core.display.HTML object>"
            ],
            "text/html": [
              "\n",
              "            <style>\n",
              "                .geemap-dark {\n",
              "                    --jp-widgets-color: white;\n",
              "                    --jp-widgets-label-color: white;\n",
              "                    --jp-ui-font-color1: white;\n",
              "                    --jp-layout-color2: #454545;\n",
              "                    background-color: #383838;\n",
              "                }\n",
              "\n",
              "                .geemap-dark .jupyter-button {\n",
              "                    --jp-layout-color3: #383838;\n",
              "                }\n",
              "\n",
              "                .geemap-colab {\n",
              "                    background-color: var(--colab-primary-surface-color, white);\n",
              "                }\n",
              "\n",
              "                .geemap-colab .jupyter-button {\n",
              "                    --jp-layout-color3: var(--colab-primary-surface-color, white);\n",
              "                }\n",
              "            </style>\n",
              "            "
            ]
          },
          "metadata": {}
        }
      ]
    },
    {
      "cell_type": "code",
      "source": [
        "# get the gauge as a point geometry in Earth Engine\n",
        "ee_gauge = ee.Geometry.Point(*gauge_lon_lat)\n",
        "\n",
        "# filter the watersheds to the basin the gauge is in\n",
        "basin = ee.Feature(\n",
        "    huc08_basins\n",
        "    .filterBounds(ee_gauge)\n",
        "    .first()\n",
        ")"
      ],
      "metadata": {
        "colab": {
          "base_uri": "https://localhost:8080/",
          "height": 17
        },
        "id": "umbTlRyFcB0P",
        "executionInfo": {
          "status": "ok",
          "timestamp": 1716984603041,
          "user_tz": 0,
          "elapsed": 79,
          "user": {
            "displayName": "",
            "userId": ""
          }
        },
        "outputId": "846a75da-ede1-4cba-f47c-25f42135e750"
      },
      "id": "umbTlRyFcB0P",
      "execution_count": null,
      "outputs": [
        {
          "output_type": "display_data",
          "data": {
            "text/plain": [
              "<IPython.core.display.HTML object>"
            ],
            "text/html": [
              "\n",
              "            <style>\n",
              "                .geemap-dark {\n",
              "                    --jp-widgets-color: white;\n",
              "                    --jp-widgets-label-color: white;\n",
              "                    --jp-ui-font-color1: white;\n",
              "                    --jp-layout-color2: #454545;\n",
              "                    background-color: #383838;\n",
              "                }\n",
              "\n",
              "                .geemap-dark .jupyter-button {\n",
              "                    --jp-layout-color3: #383838;\n",
              "                }\n",
              "\n",
              "                .geemap-colab {\n",
              "                    background-color: var(--colab-primary-surface-color, white);\n",
              "                }\n",
              "\n",
              "                .geemap-colab .jupyter-button {\n",
              "                    --jp-layout-color3: var(--colab-primary-surface-color, white);\n",
              "                }\n",
              "            </style>\n",
              "            "
            ]
          },
          "metadata": {}
        }
      ]
    },
    {
      "cell_type": "code",
      "source": [
        "# visualize the basin and gauge on a map\n",
        "m = geemap.Map()\n",
        "m.add_layer(basin, {}, 'Basin')\n",
        "m.add_layer(ee_gauge, {'color':'yellow'}, 'Gauge')\n",
        "m.center_object(ee_gauge, 10)\n",
        "m"
      ],
      "metadata": {
        "id": "SAGRDTV7dSyL"
      },
      "id": "SAGRDTV7dSyL",
      "execution_count": null,
      "outputs": []
    },
    {
      "cell_type": "code",
      "source": [
        "# get the area of the basin\n",
        "# this is used to normalize discharge\n",
        "area_sqm = float(basin.geometry().area().getInfo())"
      ],
      "metadata": {
        "colab": {
          "base_uri": "https://localhost:8080/",
          "height": 17
        },
        "id": "DovxOGCNcMTO",
        "executionInfo": {
          "status": "ok",
          "timestamp": 1716984613290,
          "user_tz": 0,
          "elapsed": 421,
          "user": {
            "displayName": "",
            "userId": ""
          }
        },
        "outputId": "44fd941d-d504-41a0-fbc8-8e065cb479fd"
      },
      "id": "DovxOGCNcMTO",
      "execution_count": null,
      "outputs": [
        {
          "output_type": "display_data",
          "data": {
            "text/plain": [
              "<IPython.core.display.HTML object>"
            ],
            "text/html": [
              "\n",
              "            <style>\n",
              "                .geemap-dark {\n",
              "                    --jp-widgets-color: white;\n",
              "                    --jp-widgets-label-color: white;\n",
              "                    --jp-ui-font-color1: white;\n",
              "                    --jp-layout-color2: #454545;\n",
              "                    background-color: #383838;\n",
              "                }\n",
              "\n",
              "                .geemap-dark .jupyter-button {\n",
              "                    --jp-layout-color3: #383838;\n",
              "                }\n",
              "\n",
              "                .geemap-colab {\n",
              "                    background-color: var(--colab-primary-surface-color, white);\n",
              "                }\n",
              "\n",
              "                .geemap-colab .jupyter-button {\n",
              "                    --jp-layout-color3: var(--colab-primary-surface-color, white);\n",
              "                }\n",
              "            </style>\n",
              "            "
            ]
          },
          "metadata": {}
        }
      ]
    },
    {
      "cell_type": "code",
      "source": [
        "# normalize discharge from cubic feet per second to mm per day\n",
        "gauge['mm/day'] = 28316846.592 * gauge['00060_Mean'] * 86400 / (area_sqm * 1e6)"
      ],
      "metadata": {
        "colab": {
          "base_uri": "https://localhost:8080/",
          "height": 17
        },
        "id": "3oNdZUQHdjOx",
        "executionInfo": {
          "status": "ok",
          "timestamp": 1716985731905,
          "user_tz": 0,
          "elapsed": 59,
          "user": {
            "displayName": "",
            "userId": ""
          }
        },
        "outputId": "32f88179-0fc6-4875-ff0d-d9ec01a3a667"
      },
      "id": "3oNdZUQHdjOx",
      "execution_count": null,
      "outputs": [
        {
          "output_type": "display_data",
          "data": {
            "text/plain": [
              "<IPython.core.display.HTML object>"
            ],
            "text/html": [
              "\n",
              "            <style>\n",
              "                .geemap-dark {\n",
              "                    --jp-widgets-color: white;\n",
              "                    --jp-widgets-label-color: white;\n",
              "                    --jp-ui-font-color1: white;\n",
              "                    --jp-layout-color2: #454545;\n",
              "                    background-color: #383838;\n",
              "                }\n",
              "\n",
              "                .geemap-dark .jupyter-button {\n",
              "                    --jp-layout-color3: #383838;\n",
              "                }\n",
              "\n",
              "                .geemap-colab {\n",
              "                    background-color: var(--colab-primary-surface-color, white);\n",
              "                }\n",
              "\n",
              "                .geemap-colab .jupyter-button {\n",
              "                    --jp-layout-color3: var(--colab-primary-surface-color, white);\n",
              "                }\n",
              "            </style>\n",
              "            "
            ]
          },
          "metadata": {}
        }
      ]
    },
    {
      "cell_type": "code",
      "source": [
        "# plot the gauge data\n",
        "gauge['mm/day'].plot();"
      ],
      "metadata": {
        "id": "zzb8MP2TaOqU"
      },
      "id": "zzb8MP2TaOqU",
      "execution_count": null,
      "outputs": []
    },
    {
      "cell_type": "code",
      "source": [
        "# specify the names of the features/bands we use\n",
        "# these must correspond to the dynamic_inputs used to train the model\n",
        "in_features = ['prcp','srad','tmax','tmin','vp']"
      ],
      "metadata": {
        "colab": {
          "base_uri": "https://localhost:8080/",
          "height": 17
        },
        "id": "MUZqXRB0jtnl",
        "executionInfo": {
          "status": "ok",
          "timestamp": 1716984643167,
          "user_tz": 0,
          "elapsed": 78,
          "user": {
            "displayName": "",
            "userId": ""
          }
        },
        "outputId": "992ec6c2-d14a-4bcc-adcb-3861606a584b"
      },
      "id": "MUZqXRB0jtnl",
      "execution_count": null,
      "outputs": [
        {
          "output_type": "display_data",
          "data": {
            "text/plain": [
              "<IPython.core.display.HTML object>"
            ],
            "text/html": [
              "\n",
              "            <style>\n",
              "                .geemap-dark {\n",
              "                    --jp-widgets-color: white;\n",
              "                    --jp-widgets-label-color: white;\n",
              "                    --jp-ui-font-color1: white;\n",
              "                    --jp-layout-color2: #454545;\n",
              "                    background-color: #383838;\n",
              "                }\n",
              "\n",
              "                .geemap-dark .jupyter-button {\n",
              "                    --jp-layout-color3: #383838;\n",
              "                }\n",
              "\n",
              "                .geemap-colab {\n",
              "                    background-color: var(--colab-primary-surface-color, white);\n",
              "                }\n",
              "\n",
              "                .geemap-colab .jupyter-button {\n",
              "                    --jp-layout-color3: var(--colab-primary-surface-color, white);\n",
              "                }\n",
              "            </style>\n",
              "            "
            ]
          },
          "metadata": {}
        }
      ]
    },
    {
      "cell_type": "code",
      "source": [
        "# load in the daymet collection and filter to dates\n",
        "# select out the features to input into model\n",
        "daymet_collection = (\n",
        "    ee.ImageCollection('NASA/ORNL/DAYMET_V4')\n",
        "    .filterDate(start_date, end_date)\n",
        "    .select(in_features)\n",
        ")"
      ],
      "metadata": {
        "colab": {
          "base_uri": "https://localhost:8080/",
          "height": 17
        },
        "id": "Sa_yRv-NfCiO",
        "executionInfo": {
          "status": "ok",
          "timestamp": 1716984643466,
          "user_tz": 0,
          "elapsed": 4,
          "user": {
            "displayName": "",
            "userId": ""
          }
        },
        "outputId": "c82c21da-9d3c-4b7f-8925-d30c63ef8d1c"
      },
      "id": "Sa_yRv-NfCiO",
      "execution_count": null,
      "outputs": [
        {
          "output_type": "display_data",
          "data": {
            "text/plain": [
              "<IPython.core.display.HTML object>"
            ],
            "text/html": [
              "\n",
              "            <style>\n",
              "                .geemap-dark {\n",
              "                    --jp-widgets-color: white;\n",
              "                    --jp-widgets-label-color: white;\n",
              "                    --jp-ui-font-color1: white;\n",
              "                    --jp-layout-color2: #454545;\n",
              "                    background-color: #383838;\n",
              "                }\n",
              "\n",
              "                .geemap-dark .jupyter-button {\n",
              "                    --jp-layout-color3: #383838;\n",
              "                }\n",
              "\n",
              "                .geemap-colab {\n",
              "                    background-color: var(--colab-primary-surface-color, white);\n",
              "                }\n",
              "\n",
              "                .geemap-colab .jupyter-button {\n",
              "                    --jp-layout-color3: var(--colab-primary-surface-color, white);\n",
              "                }\n",
              "            </style>\n",
              "            "
            ]
          },
          "metadata": {}
        }
      ]
    },
    {
      "cell_type": "markdown",
      "source": [
        "> **NOTE:** If you used another meteorological forcing to train the network then make sure you update the image collection to the same one used to train the model"
      ],
      "metadata": {
        "id": "Q696SJWjSaxz"
      },
      "id": "Q696SJWjSaxz"
    },
    {
      "cell_type": "code",
      "source": [
        "#@title Time series function\n",
        "def get_timeseries(forcings, basin):\n",
        "    \"\"\"Calcualte a time series of forcings for a given basin.\n",
        "\n",
        "       args:\n",
        "           basin (ee.Feature): Feature of the basin to calculate the time series for\n",
        "\n",
        "       returns:\n",
        "           pd.DataFrame: table of time series of forcings\n",
        "    \"\"\"\n",
        "\n",
        "    def calc_ts(t):\n",
        "        # determine start and end time for the reduction\n",
        "        t1 = ee.Date(t)\n",
        "        t2 = t1.advance(1, 'day')\n",
        "\n",
        "        # get the first image within time range\n",
        "        img = forcings.filterDate(t1, t2).first()\n",
        "\n",
        "        # apply the reduction for the areal avg precip\n",
        "        stat = img.reduceRegion(\n",
        "            geometry=basin.geometry(maxError=1e3),\n",
        "            reducer=ee.Reducer.mean(),\n",
        "            scale=img.projection().nominalScale(),\n",
        "            tileScale=2\n",
        "        )\n",
        "\n",
        "        # update the reduction result with time info\n",
        "        stat = stat.combine({\n",
        "            'date': t1.format('YYYY-MM-dd HH:mm:ss'),\n",
        "            'system:time_start': t1.millis()\n",
        "        })\n",
        "        return ee.Feature(None, stat)  # return as a feature with no geometry\n",
        "\n",
        "    # get the years for a time series\n",
        "    datetimes = forcings.aggregate_array('system:time_start')\n",
        "\n",
        "    # map over all of the forecast times and convert to FeatureCollection\n",
        "    ts = ee.FeatureCollection(datetimes.map(calc_ts))\n",
        "\n",
        "    # request that the table be returned as pd.DataFrame\n",
        "    return ee.data.computeFeatures({\n",
        "        'expression': ts,\n",
        "        'fileFormat': 'PANDAS_DATAFRAME'\n",
        "    })"
      ],
      "metadata": {
        "colab": {
          "base_uri": "https://localhost:8080/",
          "height": 17
        },
        "cellView": "form",
        "id": "iAmZlhm5fXZ5",
        "executionInfo": {
          "status": "ok",
          "timestamp": 1716985235231,
          "user_tz": 0,
          "elapsed": 95,
          "user": {
            "displayName": "",
            "userId": ""
          }
        },
        "outputId": "ce9028a9-d62d-4866-eaa9-e5ec555f3238"
      },
      "id": "iAmZlhm5fXZ5",
      "execution_count": null,
      "outputs": [
        {
          "output_type": "display_data",
          "data": {
            "text/plain": [
              "<IPython.core.display.HTML object>"
            ],
            "text/html": [
              "\n",
              "            <style>\n",
              "                .geemap-dark {\n",
              "                    --jp-widgets-color: white;\n",
              "                    --jp-widgets-label-color: white;\n",
              "                    --jp-ui-font-color1: white;\n",
              "                    --jp-layout-color2: #454545;\n",
              "                    background-color: #383838;\n",
              "                }\n",
              "\n",
              "                .geemap-dark .jupyter-button {\n",
              "                    --jp-layout-color3: #383838;\n",
              "                }\n",
              "\n",
              "                .geemap-colab {\n",
              "                    background-color: var(--colab-primary-surface-color, white);\n",
              "                }\n",
              "\n",
              "                .geemap-colab .jupyter-button {\n",
              "                    --jp-layout-color3: var(--colab-primary-surface-color, white);\n",
              "                }\n",
              "            </style>\n",
              "            "
            ]
          },
          "metadata": {}
        }
      ]
    },
    {
      "cell_type": "code",
      "source": [
        "# request a time series of the meteorological inputs for the basin\n",
        "daymet_df = get_timeseries(daymet_collection, basin)\n",
        "daymet_df.index = pd.to_datetime(daymet_df.date)"
      ],
      "metadata": {
        "id": "8YzYF145ghC-"
      },
      "id": "8YzYF145ghC-",
      "execution_count": null,
      "outputs": []
    },
    {
      "cell_type": "markdown",
      "source": [
        "Depending on the size of basin this can timeout. If you would like to run this for large or many basins then it is better to [export the table](https://developers.google.com/earth-engine/guides/exporting_tables) rather than to read in a DataFrame"
      ],
      "metadata": {
        "id": "JR5lz2wnTWAK"
      },
      "id": "JR5lz2wnTWAK"
    },
    {
      "cell_type": "code",
      "source": [
        "# display resulting dataframe\n",
        "daymet_df.head()"
      ],
      "metadata": {
        "id": "s_3kv61vjj8e"
      },
      "id": "s_3kv61vjj8e",
      "execution_count": null,
      "outputs": []
    },
    {
      "cell_type": "code",
      "source": [
        "# plot each feature\n",
        "daymet_df[in_features].plot(subplots=True, figsize=(7, 7));"
      ],
      "metadata": {
        "id": "JQcU3fZuw_Dk"
      },
      "id": "JQcU3fZuw_Dk",
      "execution_count": null,
      "outputs": []
    },
    {
      "cell_type": "code",
      "source": [
        "#@title Enter endpoint to use for predictions\n",
        "\n",
        "prediction_endpoint = 'https://us-central1-ciroh-water-demo.cloudfunctions.net/nh-inference' # @param {type:\"string\"}\n"
      ],
      "metadata": {
        "colab": {
          "base_uri": "https://localhost:8080/",
          "height": 17
        },
        "cellView": "form",
        "id": "-w50ceUFJt79",
        "executionInfo": {
          "status": "ok",
          "timestamp": 1716984824050,
          "user_tz": 0,
          "elapsed": 11,
          "user": {
            "displayName": "",
            "userId": ""
          }
        },
        "outputId": "1cdb1817-c335-4df2-cfe8-f7f75f228127"
      },
      "id": "-w50ceUFJt79",
      "execution_count": null,
      "outputs": [
        {
          "output_type": "display_data",
          "data": {
            "text/plain": [
              "<IPython.core.display.HTML object>"
            ],
            "text/html": [
              "\n",
              "            <style>\n",
              "                .geemap-dark {\n",
              "                    --jp-widgets-color: white;\n",
              "                    --jp-widgets-label-color: white;\n",
              "                    --jp-ui-font-color1: white;\n",
              "                    --jp-layout-color2: #454545;\n",
              "                    background-color: #383838;\n",
              "                }\n",
              "\n",
              "                .geemap-dark .jupyter-button {\n",
              "                    --jp-layout-color3: #383838;\n",
              "                }\n",
              "\n",
              "                .geemap-colab {\n",
              "                    background-color: var(--colab-primary-surface-color, white);\n",
              "                }\n",
              "\n",
              "                .geemap-colab .jupyter-button {\n",
              "                    --jp-layout-color3: var(--colab-primary-surface-color, white);\n",
              "                }\n",
              "            </style>\n",
              "            "
            ]
          },
          "metadata": {}
        }
      ]
    },
    {
      "cell_type": "code",
      "source": [
        "# convert the dataframe values into a list to send for prediction\n",
        "in_data = daymet_df[in_features].values.tolist()"
      ],
      "metadata": {
        "id": "VQtd52IvIC2b",
        "colab": {
          "base_uri": "https://localhost:8080/",
          "height": 17
        },
        "executionInfo": {
          "status": "ok",
          "timestamp": 1716984824050,
          "user_tz": 0,
          "elapsed": 9,
          "user": {
            "displayName": "",
            "userId": ""
          }
        },
        "outputId": "b9578c66-57d8-43ee-ee3b-c0fc6a61bd65"
      },
      "id": "VQtd52IvIC2b",
      "execution_count": null,
      "outputs": [
        {
          "output_type": "display_data",
          "data": {
            "text/plain": [
              "<IPython.core.display.HTML object>"
            ],
            "text/html": [
              "\n",
              "            <style>\n",
              "                .geemap-dark {\n",
              "                    --jp-widgets-color: white;\n",
              "                    --jp-widgets-label-color: white;\n",
              "                    --jp-ui-font-color1: white;\n",
              "                    --jp-layout-color2: #454545;\n",
              "                    background-color: #383838;\n",
              "                }\n",
              "\n",
              "                .geemap-dark .jupyter-button {\n",
              "                    --jp-layout-color3: #383838;\n",
              "                }\n",
              "\n",
              "                .geemap-colab {\n",
              "                    background-color: var(--colab-primary-surface-color, white);\n",
              "                }\n",
              "\n",
              "                .geemap-colab .jupyter-button {\n",
              "                    --jp-layout-color3: var(--colab-primary-surface-color, white);\n",
              "                }\n",
              "            </style>\n",
              "            "
            ]
          },
          "metadata": {}
        }
      ]
    },
    {
      "cell_type": "code",
      "source": [
        "# run prediction using the endpoint\n",
        "r = requests.post(prediction_endpoint, json={'forcings': in_data})"
      ],
      "metadata": {
        "colab": {
          "base_uri": "https://localhost:8080/",
          "height": 17
        },
        "id": "QcBOWJ8WlCCc",
        "executionInfo": {
          "status": "ok",
          "timestamp": 1716984837237,
          "user_tz": 0,
          "elapsed": 13195,
          "user": {
            "displayName": "",
            "userId": ""
          }
        },
        "outputId": "2de561a9-2a68-4f40-88a2-2388c6b37594"
      },
      "id": "QcBOWJ8WlCCc",
      "execution_count": null,
      "outputs": [
        {
          "output_type": "display_data",
          "data": {
            "text/plain": [
              "<IPython.core.display.HTML object>"
            ],
            "text/html": [
              "\n",
              "            <style>\n",
              "                .geemap-dark {\n",
              "                    --jp-widgets-color: white;\n",
              "                    --jp-widgets-label-color: white;\n",
              "                    --jp-ui-font-color1: white;\n",
              "                    --jp-layout-color2: #454545;\n",
              "                    background-color: #383838;\n",
              "                }\n",
              "\n",
              "                .geemap-dark .jupyter-button {\n",
              "                    --jp-layout-color3: #383838;\n",
              "                }\n",
              "\n",
              "                .geemap-colab {\n",
              "                    background-color: var(--colab-primary-surface-color, white);\n",
              "                }\n",
              "\n",
              "                .geemap-colab .jupyter-button {\n",
              "                    --jp-layout-color3: var(--colab-primary-surface-color, white);\n",
              "                }\n",
              "            </style>\n",
              "            "
            ]
          },
          "metadata": {}
        }
      ]
    },
    {
      "cell_type": "code",
      "source": [
        "# check the response and if okay then get the result as an array\n",
        "if r.status_code == 200:\n",
        "    q_out = np.array(r.json()['y_pred'])\n",
        "else:\n",
        "  print(r.json())"
      ],
      "metadata": {
        "colab": {
          "base_uri": "https://localhost:8080/",
          "height": 17
        },
        "id": "rbA4-lPBlK98",
        "executionInfo": {
          "status": "ok",
          "timestamp": 1716984837237,
          "user_tz": 0,
          "elapsed": 16,
          "user": {
            "displayName": "",
            "userId": ""
          }
        },
        "outputId": "59e3ae04-e1e0-47bc-919a-15117210f1af"
      },
      "id": "rbA4-lPBlK98",
      "execution_count": null,
      "outputs": [
        {
          "output_type": "display_data",
          "data": {
            "text/plain": [
              "<IPython.core.display.HTML object>"
            ],
            "text/html": [
              "\n",
              "            <style>\n",
              "                .geemap-dark {\n",
              "                    --jp-widgets-color: white;\n",
              "                    --jp-widgets-label-color: white;\n",
              "                    --jp-ui-font-color1: white;\n",
              "                    --jp-layout-color2: #454545;\n",
              "                    background-color: #383838;\n",
              "                }\n",
              "\n",
              "                .geemap-dark .jupyter-button {\n",
              "                    --jp-layout-color3: #383838;\n",
              "                }\n",
              "\n",
              "                .geemap-colab {\n",
              "                    background-color: var(--colab-primary-surface-color, white);\n",
              "                }\n",
              "\n",
              "                .geemap-colab .jupyter-button {\n",
              "                    --jp-layout-color3: var(--colab-primary-surface-color, white);\n",
              "                }\n",
              "            </style>\n",
              "            "
            ]
          },
          "metadata": {}
        }
      ]
    },
    {
      "cell_type": "code",
      "source": [
        "# convert the array to a time series\n",
        "q_df = pd.Series(np.squeeze(q_out), index=daymet_df.index[365:])"
      ],
      "metadata": {
        "colab": {
          "base_uri": "https://localhost:8080/",
          "height": 17
        },
        "id": "FE9pEDxdlg5c",
        "executionInfo": {
          "status": "ok",
          "timestamp": 1716984837237,
          "user_tz": 0,
          "elapsed": 15,
          "user": {
            "displayName": "",
            "userId": ""
          }
        },
        "outputId": "00d896b8-c2be-4af0-be7c-68f2cd3383ff"
      },
      "id": "FE9pEDxdlg5c",
      "execution_count": null,
      "outputs": [
        {
          "output_type": "display_data",
          "data": {
            "text/plain": [
              "<IPython.core.display.HTML object>"
            ],
            "text/html": [
              "\n",
              "            <style>\n",
              "                .geemap-dark {\n",
              "                    --jp-widgets-color: white;\n",
              "                    --jp-widgets-label-color: white;\n",
              "                    --jp-ui-font-color1: white;\n",
              "                    --jp-layout-color2: #454545;\n",
              "                    background-color: #383838;\n",
              "                }\n",
              "\n",
              "                .geemap-dark .jupyter-button {\n",
              "                    --jp-layout-color3: #383838;\n",
              "                }\n",
              "\n",
              "                .geemap-colab {\n",
              "                    background-color: var(--colab-primary-surface-color, white);\n",
              "                }\n",
              "\n",
              "                .geemap-colab .jupyter-button {\n",
              "                    --jp-layout-color3: var(--colab-primary-surface-color, white);\n",
              "                }\n",
              "            </style>\n",
              "            "
            ]
          },
          "metadata": {}
        }
      ]
    },
    {
      "cell_type": "code",
      "source": [
        "# plot the results with the observed data\n",
        "ax = q_df.plot(label='Prediction')\n",
        "gauge['mm/day'].plot(ax=ax,label='Observed', color='k')\n",
        "ax.legend();"
      ],
      "metadata": {
        "id": "rWsw9xAJm6CJ"
      },
      "id": "rWsw9xAJm6CJ",
      "execution_count": null,
      "outputs": []
    }
  ],
  "metadata": {
    "kernelspec": {
      "display_name": "Python 3",
      "language": "python",
      "name": "python3"
    },
    "language_info": {
      "codemirror_mode": {
        "name": "ipython",
        "version": 3
      },
      "file_extension": ".py",
      "mimetype": "text/x-python",
      "name": "python",
      "nbconvert_exporter": "python",
      "pygments_lexer": "ipython3",
      "version": "3.10.10"
    },
    "colab": {
      "provenance": [],
      "name": "nh_earthengine_cf_predict.ipynb"
    }
  },
  "nbformat": 4,
  "nbformat_minor": 5
}